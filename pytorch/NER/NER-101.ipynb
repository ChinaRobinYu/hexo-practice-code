{
 "cells": [
  {
   "cell_type": "code",
   "execution_count": 1,
   "metadata": {},
   "outputs": [],
   "source": [
    "import torch\n",
    "import torch.nn as nn\n",
    "import torch.nn.functional as F\n",
    "from torch import optim\n",
    "import numpy as np\n",
    "from torch.autograd import Variable as Variable\n",
    "import random\n",
    "import torch.nn.init as init\n",
    "import copy\n",
    "import tqdm"
   ]
  },
  {
   "cell_type": "code",
   "execution_count": 2,
   "metadata": {},
   "outputs": [],
   "source": [
    "START_TAG = \"START\"\n",
    "STOP_TAG = \"STOP\"\n",
    "\n",
    "\n",
    "class BiLSTM_CRF(nn.Module):\n",
    "    def __init__(self,tag_to_ix,batch_size, vocab_size, embedding_dim, hidden_dim,weight=None):\n",
    "        super(BiLSTM_CRF, self).__init__()\n",
    "        self.tag_to_ix = tag_to_ix\n",
    "        self.batch_size = batch_size\n",
    "        self.vocab_size = vocab_size\n",
    "        self.embedding_dim = embedding_dim\n",
    "        self.hidden_dim = hidden_dim\n",
    "        self.tag_size = len(tag_to_ix)\n",
    "        \n",
    "        if weight is not None:\n",
    "            self.word_embeddings = nn.Embedding.from_pretrained(weight)\n",
    "        else:\n",
    "            self.word_embeddings = nn.Embedding(self.vocab_size, self.embedding_dim)\n",
    "        self.lstm = nn.LSTM(self.embedding_dim, self.hidden_dim // 2, num_layers = 1, bidirectional=True, batch_first = True)\n",
    "        self.hidden2tag = nn.Linear(self.hidden_dim, self.tag_size)\n",
    "        self.hidden = self.init_hidden()\n",
    "        \n",
    "        self.transitions = nn.Parameter(torch.randn(self.tag_size, self.tag_size))\n",
    "        self.transitions.data[self.tag_to_ix[START_TAG], :] = -10000\n",
    "        self.transitions.data[:, self.tag_to_ix[STOP_TAG]] = -10000\n",
    "        \n",
    "    def init_hidden(self):\n",
    "        return(torch.randn(2, self.batch_size, self.hidden_dim // 2),\n",
    "               torch.randn(2, self.batch_size, self.hidden_dim // 2))\n",
    "    \n",
    "    def _get_lstm_features(self, sentences):\n",
    "        self.hidden = self.init_hidden()\n",
    "        length = sentences.shape[1]\n",
    "        embeddings = self.word_embeddings(sentences).view(self.batch_size, length, self.embedding_dim)\n",
    "        lstm_out, self.hidden = self.lstm(embeddings, self.hidden)\n",
    "        lstm_out = lstm_out.view(self.batch_size, -1, self.hidden_dim)\n",
    "        lstm_feats = self.hidden2tag(lstm_out)\n",
    "        return lstm_feats\n",
    "    \n",
    "    def _score_sentence(self, feats, label):\n",
    "        score = torch.zeros(1)\n",
    "        label = torch.cat([torch.tensor([self.tag_to_ix[START_TAG]], dtype=torch.long), label])\n",
    "        for index, feat in enumerate(feats):\n",
    "            emission_sorce = feat[label[index + 1]]\n",
    "            transitions_score = self.transitions[label[index + 1], label[index]]\n",
    "            score += emission_sorce + transitions_score\n",
    "        score += self.transitions[self.tag_to_ix[STOP_TAG], label[-1]]\n",
    "        return score\n",
    "    \n",
    "    def _forward_alg(self, feats):\n",
    "        init_alphas = torch.full([self.tag_size], -10000.)\n",
    "        init_alphas[self.tag_to_ix[START_TAG]] = 0.\n",
    "        forward_var = init_alphas\n",
    "        \n",
    "        for feat_index in range(feats.shape[0]):\n",
    "            previous = torch.stack([forward_var] * feats.shape[1])\n",
    "            emit_scores = torch.unsqueeze(feats[feat_index], 0).transpose(0, 1)\n",
    "            next_tag_var = previous + emit_scores + self.transitions\n",
    "            forward_var = torch.logsumexp(next_tag_var, dim=1)\n",
    "        terminal_val = forward_var + self.transitions[self.tag_to_ix[STOP_TAG]]\n",
    "        terminal_val = torch.unsqueeze(terminal_val, 0)\n",
    "        alpha = torch.logsumexp(terminal_val, dim=1)[0]\n",
    "        return alpha\n",
    "    \n",
    "    def neg_log_likelihood(self, sentences, tags, lengths):\n",
    "        self.batch_size = sentences.size(0)\n",
    "        featss = self._get_lstm_features(sentences)\n",
    "        gold_score = torch.zeros(1)\n",
    "        forward_score = torch.zeros(1)\n",
    "        for feats, tag, length in zip(featss, tags, lengths):\n",
    "            feats = feats[:length]\n",
    "            tag = tag[:length]\n",
    "            gold_score += self._score_sentence(feats, tag)\n",
    "            forward_score += self._forward_alg(feats)\n",
    "        return forward_score - gold_score\n",
    "    \n",
    "    def forward(self, sentences, lengths=None):\n",
    "        sentences = torch.tensor(sentences, dtype=torch.long)\n",
    "        if not lengths:\n",
    "            lengths = [i.size(-1) for i in sentences]\n",
    "        self.batch_size = sentences.size(0)\n",
    "        logits = self._get_lstm_features(sentences)\n",
    "        scores = []\n",
    "        paths = []\n",
    "        for logit, leng in zip(logits, lengths):\n",
    "            logit = logit[:leng]\n",
    "            score, path = self._viterbi_decode(logit)\n",
    "            scores.append(score)\n",
    "            paths.append(path)\n",
    "        return scores, paths\n",
    "    \n",
    "    def _viterbi_decode(self, feats):\n",
    "        backpointers = []\n",
    "        init_vvars = torch.full((1, self.tag_size), -10000.)\n",
    "        init_vvars[0][self.tag_to_ix[START_TAG]] = 0\n",
    "        forward_var = init_vvars\n",
    "        \n",
    "        for feat_index in range(feats.shape[0]):\n",
    "            forward_vars = torch.stack([forward_var] * feats.shape[1])\n",
    "            forward_vars = torch.squeeze(forward_vars)\n",
    "            next_tag_vars = forward_vars + self.transitions\n",
    "            viterbivar_s_t, bptr_s_t = torch.max(next_tag_vars, dim=1)\n",
    "            \n",
    "            feat_s_t = torch.unsqueeze(feats[feat_index], 0)\n",
    "            forward_var = torch.unsqueeze(viterbivar_s_t, 0) + feat_s_t\n",
    "            backpointers.append(bptr_s_t.tolist())\n",
    "            \n",
    "        terminal_val = forward_var + self.transitions[self.tag_to_ix[STOP_TAG]]\n",
    "        best_tag_id = torch.argmax(terminal_val).tolist()\n",
    "        path_score = terminal_val[0][best_tag_id]\n",
    "        best_path = [best_tag_id]\n",
    "        for bptrs_t in reversed(backpointers):\n",
    "            best_tag_id = bptrs_t[best_tag_id]\n",
    "            best_path.append(best_tag_id)\n",
    "        start = best_path.pop()\n",
    "        assert start == self.tag_to_ix[START_TAG]\n",
    "        best_path.reverse()\n",
    "        return path_score, best_path"
   ]
  },
  {
   "cell_type": "code",
   "execution_count": 3,
   "metadata": {},
   "outputs": [],
   "source": [
    "def prepare_sequence(seq, to_ix):\n",
    "    idxs = [to_ix[w] for w in seq]\n",
    "    return torch.tensor(idxs, dtype=torch.long)"
   ]
  },
  {
   "cell_type": "code",
   "execution_count": 4,
   "metadata": {},
   "outputs": [],
   "source": [
    "EMBEDDING_DIM = 5\n",
    "HIDDEN_DIM = 4\n",
    "\n",
    "# Make up some training data\n",
    "training_data = [(\n",
    "    \"the wall street journal reported today that apple corporation made money\".split(),\n",
    "    \"B I I I O O O B I O O\".split()\n",
    "), (\n",
    "    \"georgia tech is a university in georgia\".split(),\n",
    "    \"B I O O O O B\".split()\n",
    ")]\n",
    "\n",
    "word_to_ix = {}\n",
    "for sentence, tags in training_data:\n",
    "    for word in sentence:\n",
    "        if word not in word_to_ix:\n",
    "            word_to_ix[word] = len(word_to_ix)\n",
    "word_to_ix['<UNK>'] = len(word_to_ix)\n",
    "\n",
    "tag_to_ix = {\"B\": 0, \"I\": 1, \"O\": 2, START_TAG: 3, STOP_TAG: 4}"
   ]
  },
  {
   "cell_type": "code",
   "execution_count": 5,
   "metadata": {},
   "outputs": [],
   "source": [
    "def padding(seq, tag, maxlen, pad='<UNK>'):\n",
    "    p_seq = []\n",
    "    p_tag = []\n",
    "    true_len = len(seq)\n",
    "    if len(seq) < maxlen:\n",
    "        p_seq = copy.copy(seq)\n",
    "        p_tag = copy.copy(tag)\n",
    "        while len(p_seq) < maxlen:\n",
    "            p_seq.append(pad)\n",
    "            p_tag.append('STOP')\n",
    "    else:\n",
    "        p_seq = seq[:maxlen]\n",
    "        p_tag = tag[:maxlen]\n",
    "    p_seq = prepare_sequence(p_seq, word_to_ix)\n",
    "    p_tag = torch.tensor([tag_to_ix[t] for t in p_tag], dtype=torch.long)\n",
    "    return p_seq, p_tag, true_len"
   ]
  },
  {
   "cell_type": "code",
   "execution_count": 6,
   "metadata": {},
   "outputs": [],
   "source": [
    "training_data_pad = []\n",
    "for i in range(len(training_data)):\n",
    "    training_data_pad.append(padding(training_data[i][0], training_data[i][1], 11)) #这里用11是因为样例数据最大也就11个词"
   ]
  },
  {
   "cell_type": "code",
   "execution_count": 7,
   "metadata": {},
   "outputs": [],
   "source": [
    "data_iter = torch.utils.data.DataLoader(training_data_pad, batch_size=2)"
   ]
  },
  {
   "cell_type": "code",
   "execution_count": 8,
   "metadata": {},
   "outputs": [],
   "source": [
    "model = BiLSTM_CRF(tag_to_ix=tag_to_ix, batch_size=2, vocab_size=len(word_to_ix), embedding_dim=50, hidden_dim=64)\n",
    "optimizer = optim.SGD(model.parameters(), lr=0.01, weight_decay=1e-4)"
   ]
  },
  {
   "cell_type": "code",
   "execution_count": 9,
   "metadata": {},
   "outputs": [
    {
     "name": "stdout",
     "output_type": "stream",
     "text": [
      "([tensor(12.1246)], [[1, 0, 1, 0, 1, 0, 1, 0, 1, 0, 1]])\n"
     ]
    },
    {
     "name": "stderr",
     "output_type": "stream",
     "text": [
      "/home/samael/anaconda3/lib/python3.7/site-packages/ipykernel_launcher.py:78: UserWarning: To copy construct from a tensor, it is recommended to use sourceTensor.clone().detach() or sourceTensor.clone().detach().requires_grad_(True), rather than torch.tensor(sourceTensor).\n"
     ]
    }
   ],
   "source": [
    "with torch.no_grad():\n",
    "    print(model(training_data_pad[0][0].view(1, -1), [training_data_pad[0][2]]))"
   ]
  },
  {
   "cell_type": "code",
   "execution_count": 10,
   "metadata": {},
   "outputs": [],
   "source": [
    "for epoch in range(20):\n",
    "    for sentence, tags, true_len in data_iter:\n",
    "        model.zero_grad()\n",
    "        loss = model.neg_log_likelihood(sentence, tags, true_len)\n",
    "        loss.backward()\n",
    "        optimizer.step()"
   ]
  },
  {
   "cell_type": "code",
   "execution_count": 11,
   "metadata": {},
   "outputs": [
    {
     "name": "stdout",
     "output_type": "stream",
     "text": [
      "([tensor(7.9958)], [[0, 1, 1, 1, 2, 2, 2, 0, 1, 2, 2]])\n"
     ]
    },
    {
     "name": "stderr",
     "output_type": "stream",
     "text": [
      "/home/samael/anaconda3/lib/python3.7/site-packages/ipykernel_launcher.py:78: UserWarning: To copy construct from a tensor, it is recommended to use sourceTensor.clone().detach() or sourceTensor.clone().detach().requires_grad_(True), rather than torch.tensor(sourceTensor).\n"
     ]
    }
   ],
   "source": [
    "with torch.no_grad():\n",
    "    print(model(training_data_pad[0][0].view(1, -1), [training_data_pad[0][2]]))"
   ]
  }
 ],
 "metadata": {
  "kernelspec": {
   "display_name": "Python 3",
   "language": "python",
   "name": "python3"
  },
  "language_info": {
   "codemirror_mode": {
    "name": "ipython",
    "version": 3
   },
   "file_extension": ".py",
   "mimetype": "text/x-python",
   "name": "python",
   "nbconvert_exporter": "python",
   "pygments_lexer": "ipython3",
   "version": "3.7.4"
  }
 },
 "nbformat": 4,
 "nbformat_minor": 2
}
